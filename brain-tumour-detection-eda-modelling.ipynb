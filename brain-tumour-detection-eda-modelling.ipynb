{
 "cells": [
  {
   "cell_type": "markdown",
   "id": "9632b849",
   "metadata": {
    "papermill": {
     "duration": 0.004968,
     "end_time": "2022-12-27T08:30:34.646955",
     "exception": false,
     "start_time": "2022-12-27T08:30:34.641987",
     "status": "completed"
    },
    "tags": []
   },
   "source": [
    "# Introduction\n",
    "\n",
    "[This dataset][data] consists of 7,464 variables related to brain tumour detection, and a flag indicating the presence or absence of a brain tumour.\n",
    "\n",
    "[data]: https://www.kaggle.com/datasets/jillanisofttech/brain-tumor"
   ]
  },
  {
   "cell_type": "code",
   "execution_count": 1,
   "id": "fa540f9c",
   "metadata": {
    "_kg_hide-input": true,
    "execution": {
     "iopub.execute_input": "2022-12-27T08:30:34.657334Z",
     "iopub.status.busy": "2022-12-27T08:30:34.656694Z",
     "iopub.status.idle": "2022-12-27T08:30:36.075641Z",
     "shell.execute_reply": "2022-12-27T08:30:36.074058Z"
    },
    "papermill": {
     "duration": 1.426732,
     "end_time": "2022-12-27T08:30:36.077911",
     "exception": false,
     "start_time": "2022-12-27T08:30:34.651179",
     "status": "completed"
    },
    "tags": []
   },
   "outputs": [
    {
     "name": "stdout",
     "output_type": "stream",
     "text": [
      "There are 36 rows and 7,465 columns.\n",
      "\n"
     ]
    },
    {
     "data": {
      "text/html": [
       "<div>\n",
       "<style scoped>\n",
       "    .dataframe tbody tr th:only-of-type {\n",
       "        vertical-align: middle;\n",
       "    }\n",
       "\n",
       "    .dataframe tbody tr th {\n",
       "        vertical-align: top;\n",
       "    }\n",
       "\n",
       "    .dataframe thead th {\n",
       "        text-align: right;\n",
       "    }\n",
       "</style>\n",
       "<table border=\"1\" class=\"dataframe\">\n",
       "  <thead>\n",
       "    <tr style=\"text-align: right;\">\n",
       "      <th></th>\n",
       "      <th>X53416</th>\n",
       "      <th>M83670</th>\n",
       "      <th>X90908</th>\n",
       "      <th>M97496</th>\n",
       "      <th>X90908.1</th>\n",
       "      <th>U37019</th>\n",
       "      <th>R48602</th>\n",
       "      <th>T96548</th>\n",
       "      <th>X64559</th>\n",
       "      <th>T55741</th>\n",
       "      <th>...</th>\n",
       "      <th>H87456</th>\n",
       "      <th>R64130</th>\n",
       "      <th>H11125.1</th>\n",
       "      <th>U22055</th>\n",
       "      <th>L22524</th>\n",
       "      <th>M13699.1</th>\n",
       "      <th>X54489</th>\n",
       "      <th>T55008</th>\n",
       "      <th>M10065.2</th>\n",
       "      <th>y</th>\n",
       "    </tr>\n",
       "  </thead>\n",
       "  <tbody>\n",
       "    <tr>\n",
       "      <th>0</th>\n",
       "      <td>70</td>\n",
       "      <td>-81</td>\n",
       "      <td>25</td>\n",
       "      <td>10</td>\n",
       "      <td>22</td>\n",
       "      <td>113</td>\n",
       "      <td>36</td>\n",
       "      <td>163</td>\n",
       "      <td>9</td>\n",
       "      <td>25</td>\n",
       "      <td>...</td>\n",
       "      <td>75</td>\n",
       "      <td>5</td>\n",
       "      <td>68</td>\n",
       "      <td>138</td>\n",
       "      <td>53</td>\n",
       "      <td>-4</td>\n",
       "      <td>123</td>\n",
       "      <td>2</td>\n",
       "      <td>19</td>\n",
       "      <td>tumor</td>\n",
       "    </tr>\n",
       "    <tr>\n",
       "      <th>1</th>\n",
       "      <td>108</td>\n",
       "      <td>-30</td>\n",
       "      <td>-7</td>\n",
       "      <td>60</td>\n",
       "      <td>0</td>\n",
       "      <td>24</td>\n",
       "      <td>8</td>\n",
       "      <td>113</td>\n",
       "      <td>-3</td>\n",
       "      <td>9</td>\n",
       "      <td>...</td>\n",
       "      <td>186</td>\n",
       "      <td>6</td>\n",
       "      <td>60</td>\n",
       "      <td>93</td>\n",
       "      <td>140</td>\n",
       "      <td>-3</td>\n",
       "      <td>271</td>\n",
       "      <td>-1</td>\n",
       "      <td>-51</td>\n",
       "      <td>tumor</td>\n",
       "    </tr>\n",
       "    <tr>\n",
       "      <th>2</th>\n",
       "      <td>75</td>\n",
       "      <td>-1</td>\n",
       "      <td>5</td>\n",
       "      <td>48</td>\n",
       "      <td>6</td>\n",
       "      <td>34</td>\n",
       "      <td>27</td>\n",
       "      <td>35</td>\n",
       "      <td>-1</td>\n",
       "      <td>4</td>\n",
       "      <td>...</td>\n",
       "      <td>186</td>\n",
       "      <td>225</td>\n",
       "      <td>94</td>\n",
       "      <td>62</td>\n",
       "      <td>39</td>\n",
       "      <td>-14</td>\n",
       "      <td>127</td>\n",
       "      <td>7</td>\n",
       "      <td>192</td>\n",
       "      <td>tumor</td>\n",
       "    </tr>\n",
       "    <tr>\n",
       "      <th>3</th>\n",
       "      <td>871</td>\n",
       "      <td>4</td>\n",
       "      <td>14</td>\n",
       "      <td>78</td>\n",
       "      <td>-6</td>\n",
       "      <td>85</td>\n",
       "      <td>65</td>\n",
       "      <td>227</td>\n",
       "      <td>19</td>\n",
       "      <td>22</td>\n",
       "      <td>...</td>\n",
       "      <td>77</td>\n",
       "      <td>6</td>\n",
       "      <td>78</td>\n",
       "      <td>30</td>\n",
       "      <td>87</td>\n",
       "      <td>-4</td>\n",
       "      <td>59</td>\n",
       "      <td>3</td>\n",
       "      <td>367</td>\n",
       "      <td>tumor</td>\n",
       "    </tr>\n",
       "    <tr>\n",
       "      <th>4</th>\n",
       "      <td>-92</td>\n",
       "      <td>-34</td>\n",
       "      <td>14</td>\n",
       "      <td>19</td>\n",
       "      <td>11</td>\n",
       "      <td>-6</td>\n",
       "      <td>27</td>\n",
       "      <td>-8</td>\n",
       "      <td>9</td>\n",
       "      <td>-5</td>\n",
       "      <td>...</td>\n",
       "      <td>87</td>\n",
       "      <td>303</td>\n",
       "      <td>204</td>\n",
       "      <td>81</td>\n",
       "      <td>105</td>\n",
       "      <td>9</td>\n",
       "      <td>265</td>\n",
       "      <td>-2</td>\n",
       "      <td>126</td>\n",
       "      <td>tumor</td>\n",
       "    </tr>\n",
       "  </tbody>\n",
       "</table>\n",
       "<p>5 rows × 7465 columns</p>\n",
       "</div>"
      ],
      "text/plain": [
       "   X53416  M83670  X90908  M97496  X90908.1  U37019  R48602  T96548  X64559  \\\n",
       "0      70     -81      25      10        22     113      36     163       9   \n",
       "1     108     -30      -7      60         0      24       8     113      -3   \n",
       "2      75      -1       5      48         6      34      27      35      -1   \n",
       "3     871       4      14      78        -6      85      65     227      19   \n",
       "4     -92     -34      14      19        11      -6      27      -8       9   \n",
       "\n",
       "   T55741  ...  H87456  R64130  H11125.1  U22055  L22524  M13699.1  X54489  \\\n",
       "0      25  ...      75       5        68     138      53        -4     123   \n",
       "1       9  ...     186       6        60      93     140        -3     271   \n",
       "2       4  ...     186     225        94      62      39       -14     127   \n",
       "3      22  ...      77       6        78      30      87        -4      59   \n",
       "4      -5  ...      87     303       204      81     105         9     265   \n",
       "\n",
       "   T55008  M10065.2      y  \n",
       "0       2        19  tumor  \n",
       "1      -1       -51  tumor  \n",
       "2       7       192  tumor  \n",
       "3       3       367  tumor  \n",
       "4      -2       126  tumor  \n",
       "\n",
       "[5 rows x 7465 columns]"
      ]
     },
     "execution_count": 1,
     "metadata": {},
     "output_type": "execute_result"
    }
   ],
   "source": [
    "import pandas as pd\n",
    "import numpy as np\n",
    "import matplotlib.pyplot as plt\n",
    "from matplotlib.ticker import FixedLocator\n",
    "\n",
    "from sklearn.decomposition import PCA\n",
    "from sklearn.ensemble import RandomForestClassifier\n",
    "from sklearn.linear_model import LogisticRegression\n",
    "from sklearn.metrics import classification_report, ConfusionMatrixDisplay\n",
    "from sklearn.model_selection import train_test_split\n",
    "from sklearn.pipeline import make_pipeline\n",
    "from sklearn.preprocessing import StandardScaler\n",
    "\n",
    "plt.rc(\"figure\", autolayout=True)\n",
    "plt.rc(\"axes.spines\", right=False, top=False)\n",
    "plt.rc(\"font\", family=\"serif\")\n",
    "\n",
    "data = pd.read_csv(\"/kaggle/input/brain-tumor/data.csv\", index_col=0)\n",
    "print(\"There are {} rows and {:,} columns.\\n\".format(*data.shape))\n",
    "data.head()"
   ]
  },
  {
   "cell_type": "markdown",
   "id": "a8c3a007",
   "metadata": {
    "papermill": {
     "duration": 0.003996,
     "end_time": "2022-12-27T08:30:36.086524",
     "exception": false,
     "start_time": "2022-12-27T08:30:36.082528",
     "status": "completed"
    },
    "tags": []
   },
   "source": [
    "# 1. Exploratory Data Analysis\n",
    "\n",
    "## 1.1 Missing Values\n",
    "\n",
    "There are no missing values. All columns have no (or zero) null values."
   ]
  },
  {
   "cell_type": "code",
   "execution_count": 2,
   "id": "115ea1c5",
   "metadata": {
    "execution": {
     "iopub.execute_input": "2022-12-27T08:30:36.096892Z",
     "iopub.status.busy": "2022-12-27T08:30:36.096490Z",
     "iopub.status.idle": "2022-12-27T08:30:36.128837Z",
     "shell.execute_reply": "2022-12-27T08:30:36.127402Z"
    },
    "papermill": {
     "duration": 0.040643,
     "end_time": "2022-12-27T08:30:36.131432",
     "exception": false,
     "start_time": "2022-12-27T08:30:36.090789",
     "status": "completed"
    },
    "tags": []
   },
   "outputs": [
    {
     "data": {
      "text/plain": [
       "0    7465\n",
       "dtype: int64"
      ]
     },
     "execution_count": 2,
     "metadata": {},
     "output_type": "execute_result"
    }
   ],
   "source": [
    "data.isna().sum().value_counts()"
   ]
  },
  {
   "cell_type": "markdown",
   "id": "ef9e2c5d",
   "metadata": {
    "papermill": {
     "duration": 0.005589,
     "end_time": "2022-12-27T08:30:36.143361",
     "exception": false,
     "start_time": "2022-12-27T08:30:36.137772",
     "status": "completed"
    },
    "tags": []
   },
   "source": [
    "## 1.2 Data Types\n",
    "\n",
    "The predictor variables were inferred (by *pandas*) to be *integers*. The response is a string (*object*)."
   ]
  },
  {
   "cell_type": "code",
   "execution_count": 3,
   "id": "717933b2",
   "metadata": {
    "execution": {
     "iopub.execute_input": "2022-12-27T08:30:36.157282Z",
     "iopub.status.busy": "2022-12-27T08:30:36.155831Z",
     "iopub.status.idle": "2022-12-27T08:30:36.167175Z",
     "shell.execute_reply": "2022-12-27T08:30:36.166288Z"
    },
    "papermill": {
     "duration": 0.019947,
     "end_time": "2022-12-27T08:30:36.169196",
     "exception": false,
     "start_time": "2022-12-27T08:30:36.149249",
     "status": "completed"
    },
    "tags": []
   },
   "outputs": [
    {
     "data": {
      "text/plain": [
       "int64     7464\n",
       "object       1\n",
       "dtype: int64"
      ]
     },
     "execution_count": 3,
     "metadata": {},
     "output_type": "execute_result"
    }
   ],
   "source": [
    "data.dtypes.value_counts()"
   ]
  },
  {
   "cell_type": "markdown",
   "id": "7d7dc9ac",
   "metadata": {
    "papermill": {
     "duration": 0.004289,
     "end_time": "2022-12-27T08:30:36.178463",
     "exception": false,
     "start_time": "2022-12-27T08:30:36.174174",
     "status": "completed"
    },
    "tags": []
   },
   "source": [
    "We can use the `int16` dtype since the numeric values are within the range [-32,768, 32,767]. This cuts down memory usage by about 75%."
   ]
  },
  {
   "cell_type": "code",
   "execution_count": 4,
   "id": "7a3bedc6",
   "metadata": {
    "_kg_hide-input": true,
    "execution": {
     "iopub.execute_input": "2022-12-27T08:30:36.188550Z",
     "iopub.status.busy": "2022-12-27T08:30:36.188228Z",
     "iopub.status.idle": "2022-12-27T08:30:37.198958Z",
     "shell.execute_reply": "2022-12-27T08:30:37.197749Z"
    },
    "papermill": {
     "duration": 1.018089,
     "end_time": "2022-12-27T08:30:37.200992",
     "exception": false,
     "start_time": "2022-12-27T08:30:36.182903",
     "status": "completed"
    },
    "tags": []
   },
   "outputs": [
    {
     "name": "stdout",
     "output_type": "stream",
     "text": [
      "Range of values: [-5655, 6628]\n",
      "Size with int64: 2099.53KiB\n",
      "Size with int16: 525.09KiB\n"
     ]
    }
   ],
   "source": [
    "numeric_columns = data.select_dtypes(\"number\")\n",
    "print(\"Range of values:\", \n",
    "      f\"[{numeric_columns.min().min()}, {numeric_columns.max().max()}]\\n\"\n",
    "      f\"Size with {numeric_columns.dtypes.unique()[0]}:\",\n",
    "      f\"{numeric_columns.memory_usage().sum() / 1024:.2f}KiB\")\n",
    "\n",
    "numeric_columns = numeric_columns.astype(\"int16\")\n",
    "print(f\"Size with {numeric_columns.dtypes.unique()[0]}: \"\n",
    "      f\"{numeric_columns.memory_usage().sum() / 1024:.2f}KiB\")"
   ]
  },
  {
   "cell_type": "markdown",
   "id": "f93607d6",
   "metadata": {
    "papermill": {
     "duration": 0.004834,
     "end_time": "2022-12-27T08:30:37.211033",
     "exception": false,
     "start_time": "2022-12-27T08:30:37.206199",
     "status": "completed"
    },
    "tags": []
   },
   "source": [
    "## 1.3 Correlation\n",
    "\n",
    "There are too many numeric variables to perform pairwise correlation analysis (7,464 variables == 27,851,916 variable pairs to compare). So we'll only view the top 15 positively and negatively correlated variables."
   ]
  },
  {
   "cell_type": "code",
   "execution_count": 5,
   "id": "21c4b556",
   "metadata": {
    "_kg_hide-input": true,
    "execution": {
     "iopub.execute_input": "2022-12-27T08:30:37.222416Z",
     "iopub.status.busy": "2022-12-27T08:30:37.221988Z",
     "iopub.status.idle": "2022-12-27T08:30:43.589626Z",
     "shell.execute_reply": "2022-12-27T08:30:43.587549Z"
    },
    "papermill": {
     "duration": 6.376546,
     "end_time": "2022-12-27T08:30:43.592521",
     "exception": false,
     "start_time": "2022-12-27T08:30:37.215975",
     "status": "completed"
    },
    "tags": []
   },
   "outputs": [
    {
     "name": "stdout",
     "output_type": "stream",
     "text": [
      "Top 15 positively correlated:\n",
      "----------------------------\n",
      "\n",
      "X90908    X90908.1    0.999657\n",
      "          T64171      0.998909\n",
      "          T55255      0.998765\n",
      "T64171    T55255      0.998747\n",
      "X90908.1  T55255      0.998714\n",
      "          T64171      0.998128\n",
      "M31516    M31516.1    0.997726\n",
      "M10373    T63266      0.997556\n",
      "T55255    T63266      0.997480\n",
      "T64171    H71150      0.997409\n",
      "M10373    H71150      0.997366\n",
      "X90908.1  T63266      0.997275\n",
      "T55255    H71150      0.997253\n",
      "X90908    M10373      0.997135\n",
      "          T63266      0.997127\n",
      "dtype: float64\n",
      "\n",
      "Top 15 negatively correlated:\n",
      "----------------------------\n",
      "\n",
      "U14518    T89991     -0.998389\n",
      "H59796    D63882     -0.997120\n",
      "H89939    H88522     -0.984687\n",
      "M55513    M55513.1   -0.984583\n",
      "H92523    H88522     -0.984557\n",
      "H92279    T89991     -0.982657\n",
      "R23924    M24902     -0.980429\n",
      "H37925    H11125.1   -0.977597\n",
      "R16250.1  X13897.1   -0.977312\n",
      "X83857    H88522     -0.976782\n",
      "T67704    M24902     -0.974658\n",
      "R55241    H92523     -0.974356\n",
      "M97388    T89991     -0.973309\n",
      "H37925    R73844     -0.972835\n",
      "H89939    R55241     -0.971837\n",
      "dtype: float64\n"
     ]
    }
   ],
   "source": [
    "corr = data.corr().unstack()\n",
    "print(\"Top 15 positively correlated:\\n\", \"-\"*28, \"\\n\\n\",\n",
    "      # We select 30 and drop duplicates since correlation is symmetric\n",
    "      # i.e. correlation(a, b) == correlation(b, a)\n",
    "      corr[corr < 1].nlargest(30).drop_duplicates(),\n",
    "      \"\\n\\nTop 15 negatively correlated:\\n\", \"-\"*28, \"\\n\\n\", \n",
    "      corr.nsmallest(30).drop_duplicates(),\n",
    "      sep=\"\")"
   ]
  },
  {
   "cell_type": "markdown",
   "id": "a0e4e3e1",
   "metadata": {
    "papermill": {
     "duration": 0.004418,
     "end_time": "2022-12-27T08:30:43.603667",
     "exception": false,
     "start_time": "2022-12-27T08:30:43.599249",
     "status": "completed"
    },
    "tags": []
   },
   "source": [
    "All the above variable-pairs exhibit very strong correlation. This can be remedied using dimension-reduction techniques like *Principal Component Analysis (PCA)*.\n",
    "\n",
    "Surprisingly, only 35 components can account for almost all the variation in the numeric varibles."
   ]
  },
  {
   "cell_type": "code",
   "execution_count": 6,
   "id": "c9fcb75c",
   "metadata": {
    "_kg_hide-input": true,
    "execution": {
     "iopub.execute_input": "2022-12-27T08:30:43.615263Z",
     "iopub.status.busy": "2022-12-27T08:30:43.614163Z",
     "iopub.status.idle": "2022-12-27T08:30:44.971372Z",
     "shell.execute_reply": "2022-12-27T08:30:44.970313Z"
    },
    "papermill": {
     "duration": 1.365201,
     "end_time": "2022-12-27T08:30:44.973451",
     "exception": false,
     "start_time": "2022-12-27T08:30:43.608250",
     "status": "completed"
    },
    "tags": []
   },
   "outputs": [
    {
     "data": {
      "image/png": "[encoded data removed]",
      "text/plain": [
       "<Figure size 576x288 with 1 Axes>"
      ]
     },
     "metadata": {
      "needs_background": "light"
     },
     "output_type": "display_data"
    }
   ],
   "source": [
    "interval = range(20, 37)\n",
    "variance_proportion = []\n",
    "standardized_numeric_columns = StandardScaler().fit_transform(numeric_columns)\n",
    "\n",
    "for n in interval:\n",
    "    p = PCA(n).fit(standardized_numeric_columns)\n",
    "    variance_proportion.append(p.explained_variance_ratio_.sum())\n",
    "\n",
    "fig, ax = plt.subplots(figsize=(8, 4))\n",
    "bars = plt.bar(interval, variance_proportion)\n",
    "ax.bar_label(bars, [f\"{x:.0%}\" for x in variance_proportion])\n",
    "ax.xaxis.set_major_locator(FixedLocator(interval))\n",
    "ax.set_title(\"Principal Component Analysis\", size=16, pad=30)\n",
    "ax.set_xlabel(\"Number of Components\")\n",
    "_ = ax.set_ylabel(\"Explained Variance\")"
   ]
  },
  {
   "cell_type": "markdown",
   "id": "fdaf9134",
   "metadata": {
    "papermill": {
     "duration": 0.004704,
     "end_time": "2022-12-27T08:30:44.983494",
     "exception": false,
     "start_time": "2022-12-27T08:30:44.978790",
     "status": "completed"
    },
    "tags": []
   },
   "source": [
    "## 1.4 Target Distribution\n",
    "\n",
    "The target variable is balanced. The proportion of each class is equal:"
   ]
  },
  {
   "cell_type": "code",
   "execution_count": 7,
   "id": "e9d77bf1",
   "metadata": {
    "_kg_hide-input": true,
    "execution": {
     "iopub.execute_input": "2022-12-27T08:30:44.997267Z",
     "iopub.status.busy": "2022-12-27T08:30:44.996760Z",
     "iopub.status.idle": "2022-12-27T08:30:45.133926Z",
     "shell.execute_reply": "2022-12-27T08:30:45.133211Z"
    },
    "papermill": {
     "duration": 0.146191,
     "end_time": "2022-12-27T08:30:45.135796",
     "exception": false,
     "start_time": "2022-12-27T08:30:44.989605",
     "status": "completed"
    },
    "tags": []
   },
   "outputs": [
    {
     "data": {
      "image/png": "[encoded data removed]",
      "text/plain": [
       "<Figure size 432x288 with 1 Axes>"
      ]
     },
     "metadata": {
      "needs_background": "light"
     },
     "output_type": "display_data"
    }
   ],
   "source": [
    "target_counts = data[\"y\"].value_counts()\n",
    "ax = target_counts.plot.bar(color=[\"#f55\", \"#5f5\"])\n",
    "_ = ax.bar_label(ax.containers[0], padding=3,\n",
    "             labels=[f\"{x} ({x / len(data):.0%})\" for x in target_counts])\n",
    "ax.yaxis.set_major_locator(FixedLocator(range(0, 20, 5)))"
   ]
  },
  {
   "cell_type": "markdown",
   "id": "e3271446",
   "metadata": {
    "papermill": {
     "duration": 0.005054,
     "end_time": "2022-12-27T08:30:45.146577",
     "exception": false,
     "start_time": "2022-12-27T08:30:45.141523",
     "status": "completed"
    },
    "tags": []
   },
   "source": [
    "# 2. Modelling\n",
    "\n",
    "We note that the number of columns (7464) is significantly larger than the number of rows (36). The dataset is so small that there's a high risk of overfitting on it. But we'll proceed anyway in the spirit of experimentation.\n",
    "\n",
    "> **NOTE:** We won't be applying PCA in this case since the training data only has 27 rows, meaning we can't set `n_components` to 35."
   ]
  },
  {
   "cell_type": "code",
   "execution_count": 8,
   "id": "f53e0775",
   "metadata": {
    "execution": {
     "iopub.execute_input": "2022-12-27T08:30:45.159502Z",
     "iopub.status.busy": "2022-12-27T08:30:45.158761Z",
     "iopub.status.idle": "2022-12-27T08:30:45.167460Z",
     "shell.execute_reply": "2022-12-27T08:30:45.166473Z"
    },
    "papermill": {
     "duration": 0.017572,
     "end_time": "2022-12-27T08:30:45.169413",
     "exception": false,
     "start_time": "2022-12-27T08:30:45.151841",
     "status": "completed"
    },
    "tags": []
   },
   "outputs": [],
   "source": [
    "X_train, X_test, y_train, y_test = train_test_split(numeric_columns, data[\"y\"],\n",
    "                                                    random_state=2)"
   ]
  },
  {
   "cell_type": "markdown",
   "id": "2885fcac",
   "metadata": {
    "papermill": {
     "duration": 0.00563,
     "end_time": "2022-12-27T08:30:45.180809",
     "exception": false,
     "start_time": "2022-12-27T08:30:45.175179",
     "status": "completed"
    },
    "tags": []
   },
   "source": [
    "## 2.1 Random Forest Model"
   ]
  },
  {
   "cell_type": "code",
   "execution_count": 9,
   "id": "1902e1df",
   "metadata": {
    "execution": {
     "iopub.execute_input": "2022-12-27T08:30:45.194545Z",
     "iopub.status.busy": "2022-12-27T08:30:45.193108Z",
     "iopub.status.idle": "2022-12-27T08:30:45.428354Z",
     "shell.execute_reply": "2022-12-27T08:30:45.426849Z"
    },
    "papermill": {
     "duration": 0.244669,
     "end_time": "2022-12-27T08:30:45.430910",
     "exception": false,
     "start_time": "2022-12-27T08:30:45.186241",
     "status": "completed"
    },
    "tags": []
   },
   "outputs": [
    {
     "data": {
      "text/plain": [
       "1.0"
      ]
     },
     "execution_count": 9,
     "metadata": {},
     "output_type": "execute_result"
    }
   ],
   "source": [
    "rf_model = RandomForestClassifier(random_state=5)\n",
    "rf_model.fit(X_train, y_train)\n",
    "rf_model.score(X_test, y_test)"
   ]
  },
  {
   "cell_type": "code",
   "execution_count": 10,
   "id": "5f8ba583",
   "metadata": {
    "execution": {
     "iopub.execute_input": "2022-12-27T08:30:45.448631Z",
     "iopub.status.busy": "2022-12-27T08:30:45.447861Z",
     "iopub.status.idle": "2022-12-27T08:30:45.746117Z",
     "shell.execute_reply": "2022-12-27T08:30:45.745362Z"
    },
    "papermill": {
     "duration": 0.310212,
     "end_time": "2022-12-27T08:30:45.748312",
     "exception": false,
     "start_time": "2022-12-27T08:30:45.438100",
     "status": "completed"
    },
    "tags": []
   },
   "outputs": [
    {
     "name": "stdout",
     "output_type": "stream",
     "text": [
      "              precision    recall  f1-score   support\n",
      "\n",
      "      Normal       1.00      1.00      1.00         5\n",
      "       tumor       1.00      1.00      1.00         4\n",
      "\n",
      "    accuracy                           1.00         9\n",
      "   macro avg       1.00      1.00      1.00         9\n",
      "weighted avg       1.00      1.00      1.00         9\n",
      "\n"
     ]
    },
    {
     "data": {
      "image/png": "[encoded data removed]",
      "text/plain": [
       "<Figure size 432x288 with 2 Axes>"
      ]
     },
     "metadata": {
      "needs_background": "light"
     },
     "output_type": "display_data"
    }
   ],
   "source": [
    "print(classification_report(y_test, rf_model.predict(X_test)))\n",
    "ax = ConfusionMatrixDisplay.from_estimator(rf_model, X_test, y_test)"
   ]
  },
  {
   "cell_type": "markdown",
   "id": "5e89e59d",
   "metadata": {
    "papermill": {
     "duration": 0.005425,
     "end_time": "2022-12-27T08:30:45.759861",
     "exception": false,
     "start_time": "2022-12-27T08:30:45.754436",
     "status": "completed"
    },
    "tags": []
   },
   "source": [
    "## 2.2 Logistic Regression Model"
   ]
  },
  {
   "cell_type": "code",
   "execution_count": 11,
   "id": "05234b2e",
   "metadata": {
    "execution": {
     "iopub.execute_input": "2022-12-27T08:30:45.773536Z",
     "iopub.status.busy": "2022-12-27T08:30:45.772838Z",
     "iopub.status.idle": "2022-12-27T08:30:45.966329Z",
     "shell.execute_reply": "2022-12-27T08:30:45.965555Z"
    },
    "papermill": {
     "duration": 0.202757,
     "end_time": "2022-12-27T08:30:45.968279",
     "exception": false,
     "start_time": "2022-12-27T08:30:45.765522",
     "status": "completed"
    },
    "tags": []
   },
   "outputs": [
    {
     "data": {
      "text/plain": [
       "1.0"
      ]
     },
     "execution_count": 11,
     "metadata": {},
     "output_type": "execute_result"
    }
   ],
   "source": [
    "lr_model = make_pipeline(StandardScaler(), LogisticRegression(random_state=5))\n",
    "lr_model.fit(X_train, y_train)\n",
    "lr_model.score(X_test, y_test)"
   ]
  },
  {
   "cell_type": "code",
   "execution_count": 12,
   "id": "e8937998",
   "metadata": {
    "execution": {
     "iopub.execute_input": "2022-12-27T08:30:45.985553Z",
     "iopub.status.busy": "2022-12-27T08:30:45.984902Z",
     "iopub.status.idle": "2022-12-27T08:30:46.534835Z",
     "shell.execute_reply": "2022-12-27T08:30:46.534126Z"
    },
    "papermill": {
     "duration": 0.560622,
     "end_time": "2022-12-27T08:30:46.536553",
     "exception": false,
     "start_time": "2022-12-27T08:30:45.975931",
     "status": "completed"
    },
    "tags": []
   },
   "outputs": [
    {
     "name": "stdout",
     "output_type": "stream",
     "text": [
      "              precision    recall  f1-score   support\n",
      "\n",
      "      Normal       1.00      1.00      1.00         5\n",
      "       tumor       1.00      1.00      1.00         4\n",
      "\n",
      "    accuracy                           1.00         9\n",
      "   macro avg       1.00      1.00      1.00         9\n",
      "weighted avg       1.00      1.00      1.00         9\n",
      "\n"
     ]
    },
    {
     "data": {
      "image/png": "[encoded data removed]",
      "text/plain": [
       "<Figure size 432x288 with 2 Axes>"
      ]
     },
     "metadata": {
      "needs_background": "light"
     },
     "output_type": "display_data"
    }
   ],
   "source": [
    "print(classification_report(y_test, lr_model.predict(X_test)))\n",
    "ax = ConfusionMatrixDisplay.from_estimator(lr_model, X_test, y_test)"
   ]
  }
 ],
 "metadata": {
  "kernelspec": {
   "display_name": "Python 3",
   "language": "python",
   "name": "python3"
  },
  "language_info": {
   "codemirror_mode": {
    "name": "ipython",
    "version": 3
   },
   "file_extension": ".py",
   "mimetype": "text/x-python",
   "name": "python",
   "nbconvert_exporter": "python",
   "pygments_lexer": "ipython3",
   "version": "3.7.12"
  },
  "papermill": {
   "default_parameters": {},
   "duration": 20.306347,
   "end_time": "2022-12-27T08:30:47.665329",
   "environment_variables": {},
   "exception": null,
   "input_path": "__notebook__.ipynb",
   "output_path": "__notebook__.ipynb",
   "parameters": {},
   "start_time": "2022-12-27T08:30:27.358982",
   "version": "2.3.4"
  }
 },
 "nbformat": 4,
 "nbformat_minor": 5
}
